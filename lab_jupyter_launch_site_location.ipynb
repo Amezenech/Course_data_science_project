{
  "metadata": {
    "kernelspec": {
      "name": "python",
      "display_name": "Python (Pyodide)",
      "language": "python"
    },
    "language_info": {
      "codemirror_mode": {
        "name": "python",
        "version": 3
      },
      "file_extension": ".py",
      "mimetype": "text/x-python",
      "name": "python",
      "nbconvert_exporter": "python",
      "pygments_lexer": "ipython3",
      "version": "3.8"
    },
    "prev_pub_hash": "0f9db842b41c859223722809f8be602f5df9334348bd206b11e3af58c30eb345"
  },
  "nbformat_minor": 4,
  "nbformat": 4,
  "cells": [
    {
      "cell_type": "markdown",
      "source": "<p style=\"text-align:center\">\n    <a href=\"https://skills.network/?utm_medium=Exinfluencer&utm_source=Exinfluencer&utm_content=000026UJ&utm_term=10006555&utm_id=NA-SkillsNetwork-Channel-SkillsNetworkCoursesIBMDS0321ENSkillsNetwork26802033-2022-01-01\" target=\"_blank\">\n    <img src=\"https://cf-courses-data.s3.us.cloud-object-storage.appdomain.cloud/assets/logos/SN_web_lightmode.png\" width=\"200\" alt=\"Skills Network Logo\">\n    </a>\n</p>\n",
      "metadata": {}
    },
    {
      "cell_type": "markdown",
      "source": "# **Hands-on Lab: Interactive Visual Analytics with Folium**\n",
      "metadata": {}
    },
    {
      "cell_type": "markdown",
      "source": "Estimated time needed: **40** minutes\n",
      "metadata": {}
    },
    {
      "cell_type": "markdown",
      "source": "The launch success rate may depend on many factors such as payload mass, orbit type, and so on. It may also depend on the location and proximities of a launch site, i.e., the initial position of rocket trajectories. Finding an optimal location for building a launch site certainly involves many factors and hopefully we could discover some of the factors by analyzing the existing launch site locations.\n",
      "metadata": {}
    },
    {
      "cell_type": "markdown",
      "source": "In the previous exploratory data analysis labs, you have visualized the SpaceX launch dataset using `matplotlib` and `seaborn` and discovered some preliminary correlations between the launch site and success rates. In this lab, you will be performing more interactive visual analytics using `Folium`.\n",
      "metadata": {}
    },
    {
      "cell_type": "markdown",
      "source": "## Objectives\n",
      "metadata": {}
    },
    {
      "cell_type": "markdown",
      "source": "This lab contains the following tasks:\n\n*   **TASK 1:** Mark all launch sites on a map\n*   **TASK 2:** Mark the success/failed launches for each site on the map\n*   **TASK 3:** Calculate the distances between a launch site to its proximities\n\nAfter completed the above tasks, you should be able to find some geographical patterns about launch sites.\n",
      "metadata": {}
    },
    {
      "cell_type": "markdown",
      "source": "Let's first import required Python packages for this lab:\n",
      "metadata": {}
    },
    {
      "cell_type": "code",
      "source": "%pip install plotly\nawait piplite.install(['folium'])\nawait piplite.install(['pandas'])",
      "metadata": {
        "trusted": true
      },
      "outputs": [],
      "execution_count": null
    },
    {
      "cell_type": "code",
      "source": "import folium\nimport piplite\nimport pandas as pd\nimport plotly.express as px",
      "metadata": {
        "trusted": true
      },
      "outputs": [],
      "execution_count": null
    },
    {
      "cell_type": "code",
      "source": "# Import folium MarkerCluster plugin\nfrom folium.plugins import MarkerCluster\n# Import folium MousePosition plugin\nfrom folium.plugins import MousePosition\n# Import folium DivIcon plugin\nfrom folium.features import DivIcon",
      "metadata": {
        "trusted": true
      },
      "outputs": [],
      "execution_count": null
    },
    {
      "cell_type": "markdown",
      "source": "If you need to refresh your memory about folium, you may download and refer to this previous folium lab:\n",
      "metadata": {}
    },
    {
      "cell_type": "markdown",
      "source": "[Generating Maps with Python](https://cf-courses-data.s3.us.cloud-object-storage.appdomain.cloud/IBMDeveloperSkillsNetwork-DV0101EN-SkillsNetwork/labs/v4/DV0101EN-Exercise-Generating-Maps-in-Python.ipynb)\n",
      "metadata": {}
    },
    {
      "cell_type": "code",
      "source": "## Task 1: Mark all launch sites on a map\n# Load sample earthquake data\ndf = pd.read_csv('https://earthquake.usgs.gov/earthquakes/feed/v1.0/summary/all_month.csv')\ndf = df.dropna(subset=['latitude', 'longitude', 'mag'])\n# Create a scatter geo map\nfig = px.scatter_geo(df,\n                     lat='latitude',\n                     lon='longitude',\n                     color='mag',\n                     hover_name='place',\n                     title='Earthquakes Around the World',\n                     color_continuous_scale='reds')\nfig.show()\n",
      "metadata": {
        "trusted": true
      },
      "outputs": [],
      "execution_count": null
    },
    {
      "cell_type": "markdown",
      "source": "First, let's try to add each site's location on a map using site's latitude and longitude coordinates\n",
      "metadata": {}
    },
    {
      "cell_type": "markdown",
      "source": "The following dataset with the name `spacex_launch_geo.csv` is an augmented dataset with latitude and longitude added for each site.\n",
      "metadata": {}
    },
    {
      "cell_type": "code",
      "source": "# Download and read the `spacex_launch_geo.csv`\nfrom js import fetch\nimport io\n\nURL = 'https://cf-courses-data.s3.us.cloud-object-storage.appdomain.cloud/IBM-DS0321EN-SkillsNetwork/datasets/spacex_launch_geo.csv'\nresp = await fetch(URL)\nspacex_csv_file = io.BytesIO((await resp.arrayBuffer()).to_py())\nspacex_df=pd.read_csv(spacex_csv_file)",
      "metadata": {
        "trusted": true
      },
      "outputs": [],
      "execution_count": null
    },
    {
      "cell_type": "markdown",
      "source": "Now, you can take a look at what are the coordinates for each site.\n",
      "metadata": {}
    },
    {
      "cell_type": "code",
      "source": "# Select relevant sub-columns: `Launch Site`, `Lat(Latitude)`, `Long(Longitude)`, `class`\nspacex_df = spacex_df[['Launch Site', 'Lat', 'Long', 'class']]\nlaunch_sites_df = spacex_df.groupby(['Launch Site'], as_index=False).first()\nlaunch_sites_df = launch_sites_df[['Launch Site', 'Lat', 'Long']]\nlaunch_sites_df",
      "metadata": {
        "trusted": true
      },
      "outputs": [],
      "execution_count": null
    },
    {
      "cell_type": "markdown",
      "source": "Above coordinates are just plain numbers that can not give you any intuitive insights about where are those launch sites. If you are very good at geography, you can interpret those numbers directly in your mind. If not, that's fine too. Let's visualize those locations by pinning them on a map.\n",
      "metadata": {}
    },
    {
      "cell_type": "markdown",
      "source": "We first need to create a folium `Map` object, with an initial center location to be NASA Johnson Space Center at Houston, Texas.\n",
      "metadata": {}
    },
    {
      "cell_type": "code",
      "source": "# Start location is NASA Johnson Space Center\nnasa_coordinate = [29.559684888503615, -95.0830971930759]\nsite_map = folium.Map(location=nasa_coordinate, zoom_start=10)",
      "metadata": {
        "trusted": true
      },
      "outputs": [],
      "execution_count": null
    },
    {
      "cell_type": "markdown",
      "source": "We could use `folium.Circle` to add a highlighted circle area with a text label on a specific coordinate. For example,\n",
      "metadata": {}
    },
    {
      "cell_type": "code",
      "source": "# Create a blue circle at NASA Johnson Space Center's coordinate with a popup label showing its name\ncircle = folium.Circle(nasa_coordinate, radius=1000, color='#d35400', fill=True).add_child(folium.Popup('NASA Johnson Space Center'))\n# Create a blue circle at NASA Johnson Space Center's coordinate with a icon showing its name\nmarker = folium.map.Marker(\n    nasa_coordinate,\n    # Create an icon as a text label\n    icon=DivIcon(\n        icon_size=(20,20),\n        icon_anchor=(0,0),\n        html='<div style=\"font-size: 12; color:#d35400;\"><b>%s</b></div>' % 'NASA JSC',\n        )\n    )\nsite_map.add_child(circle)\nsite_map.add_child(marker)",
      "metadata": {
        "trusted": true
      },
      "outputs": [],
      "execution_count": null
    },
    {
      "cell_type": "markdown",
      "source": "and you should find a small yellow circle near the city of Houston and you can zoom-in to see a larger circle.\n",
      "metadata": {}
    },
    {
      "cell_type": "markdown",
      "source": "Now, let's add a circle for each launch site in data frame `launch_sites`\n",
      "metadata": {}
    },
    {
      "cell_type": "markdown",
      "source": "*TODO:*  Create and add `folium.Circle` and `folium.Marker` for each launch site on the site map\n",
      "metadata": {}
    },
    {
      "cell_type": "markdown",
      "source": "An example of folium.Circle:\n",
      "metadata": {}
    },
    {
      "cell_type": "markdown",
      "source": "`folium.Circle(coordinate, radius=1000, color='#000000', fill=True).add_child(folium.Popup(...))`\n",
      "metadata": {}
    },
    {
      "cell_type": "markdown",
      "source": "An example of folium.Marker:\n",
      "metadata": {}
    },
    {
      "cell_type": "markdown",
      "source": "`folium.map.Marker(coordinate, icon=DivIcon(icon_size=(20,20),icon_anchor=(0,0), html='<div style=\"font-size: 12; color:#d35400;\"><b>%s</b></div>' % 'label', ))`\n",
      "metadata": {}
    },
    {
      "cell_type": "code",
      "source": "# Initial the map\nsite_map = folium.Map(location=nasa_coordinate, zoom_start=5)\n# For each launch site, add a Circle object based on its coordinate (Lat, Long) values. In addition, add Launch site name as a popup label\n",
      "metadata": {
        "trusted": true
      },
      "outputs": [],
      "execution_count": null
    },
    {
      "cell_type": "markdown",
      "source": "The generated map with marked launch sites should look similar to the following:\n",
      "metadata": {}
    },
    {
      "cell_type": "markdown",
      "source": "<center>\n    <img src=\"https://cf-courses-data.s3.us.cloud-object-storage.appdomain.cloud/IBM-DS0321EN-SkillsNetwork/labs/module_3/images/launch_site_markers.png\">\n</center>\n",
      "metadata": {}
    },
    {
      "cell_type": "markdown",
      "source": "Now, you can explore the map by zoom-in/out the marked areas\n, and try to answer the following questions:\n\n*   Are all launch sites in proximity to the Equator line?\n*   Are all launch sites in very close proximity to the coast?\n\nAlso please try to explain your findings.\n",
      "metadata": {}
    },
    {
      "cell_type": "code",
      "source": "# Task 2: Mark the success/failed launches for each site on the map\nsite_map = folium.Map(location=nasa_coordinate, zoom_start=5)\n\n# Iterate over each launch record to plot outcome markers\nfor _, row in spacex_df.iterrows():\n    outcome = 'Success' if row['class'] == 1 else 'Failure'\n    color = 'green' if row['class'] == 1 else 'red'\n    icon = 'ok-sign' if row['class'] == 1 else 'remove-sign'\n\n    folium.Marker(\n        location=[row['Lat'], row['Long']],\n        popup=folium.Popup(f\"{row['Launch Site']}<br>{outcome}\", parse_html=True),\n        icon=folium.Icon(color=color, icon=icon, prefix='glyphicon')\n    ).add_to(site_map)\n\n# Group by site and compute success rate\nsuccess_df = spacex_df.groupby('Launch Site')['class'].agg(['mean', 'count']).reset_index()\nsuccess_df.rename(columns={'mean': 'Success Rate', 'count': 'Total Launches'}, inplace=True)\n\n# Merge with geo coordinates\nlaunch_stats_df = pd.merge(success_df, launch_sites_df, on='Launch Site')\n# Create the map\nsite_map = folium.Map(location=nasa_coordinate, zoom_start=5)\n\n# Add circle for each site with color based on success rate\nfor _, row in launch_stats_df.iterrows():\n    folium.Circle(\n        location=[row['Lat'], row['Long']],\n        radius=row['Total Launches'] * 200,  # Size reflects launch volume\n        color='green' if row['Success Rate'] > 0.8 else 'orange' if row['Success Rate'] > 0.5 else 'red',\n        fill=True,\n        fill_opacity=0.7,\n        popup=folium.Popup(f\"{row['Launch Site']}<br>Success Rate: {row['Success Rate']:.2f}<br>Total Launches: {int(row['Total Launches'])}\", max_width=300)\n    ).add_to(site_map)\n",
      "metadata": {
        "trusted": true
      },
      "outputs": [],
      "execution_count": null
    },
    {
      "cell_type": "markdown",
      "source": "Next, let's try to enhance the map by adding the launch outcomes for each site, and see which sites have high success rates.\nRecall that data frame spacex_df has detailed launch records, and the `class` column indicates if this launch was successful or not\n",
      "metadata": {}
    },
    {
      "cell_type": "code",
      "source": "spacex_df.tail(10)",
      "metadata": {
        "trusted": true
      },
      "outputs": [],
      "execution_count": null
    },
    {
      "cell_type": "markdown",
      "source": "Next, let's create markers for all launch records.\nIf a launch was successful `(class=1)`, then we use a green marker and if a launch was failed, we use a red marker `(class=0)`\n",
      "metadata": {}
    },
    {
      "cell_type": "markdown",
      "source": "Note that a launch only happens in one of the four launch sites, which means many launch records will have the exact same coordinate. Marker clusters can be a good way to simplify a map containing many markers having the same coordinate.\n",
      "metadata": {}
    },
    {
      "cell_type": "markdown",
      "source": "Let's first create a `MarkerCluster` object\n",
      "metadata": {}
    },
    {
      "cell_type": "code",
      "source": "#marker_cluster = MarkerCluster()\nfrom folium.plugins import MarkerCluster\n\n# Create base map centered at NASA JSC\nsite_map = folium.Map(location=nasa_coordinate, zoom_start=5)\n\n# Create the marker cluster object\nmarker_cluster = MarkerCluster().add_to(site_map)\n# Loop through each launch record\nfor _, row in spacex_df.iterrows():\n    outcome = 'Success' if row['class'] == 1 else 'Failure'\n    color = 'green' if row['class'] == 1 else 'red'\n    icon = 'ok-sign' if row['class'] == 1 else 'remove-sign'\n\n    folium.Marker(\n        location=[row['Lat'], row['Long']],\n        popup=f\"{row['Launch Site']}<br>{outcome}\",\n        icon=folium.Icon(color=color, icon=icon, prefix='glyphicon')\n    ).add_to(marker_cluster)\n\n\n",
      "metadata": {
        "trusted": true
      },
      "outputs": [],
      "execution_count": null
    },
    {
      "cell_type": "markdown",
      "source": "*TODO:* Create a new column in `spacex_df` dataframe called `marker_color` to store the marker colors based on the `class` value\n",
      "metadata": {}
    },
    {
      "cell_type": "code",
      "source": "\n# Apply a function to check the value of `class` column\n# If class=1, marker_color value will be green\n# If class=0, marker_color value will be red\n# Assign marker colors based on launch outcome\nspacex_df['marker_color'] = spacex_df['class'].apply(lambda x: 'green' if x == 1 else 'red')\nfolium.Icon(color=row['marker_color'], icon='rocket', prefix='fa')\n",
      "metadata": {
        "trusted": true
      },
      "outputs": [],
      "execution_count": null
    },
    {
      "cell_type": "markdown",
      "source": "*TODO:* For each launch result in `spacex_df` data frame, add a `folium.Marker` to `marker_cluster`\n",
      "metadata": {}
    },
    {
      "cell_type": "code",
      "source": "# Add marker_cluster to current site_map\n#site_map.add_child(marker_cluster)\n\n# for each row in spacex_df data frame\n# create a Marker object with its coordinate\n# and customize the Marker's icon property to indicate if this launch was successed or failed, \n# e.g., icon=folium.Icon(color='white', icon_color=row['marker_color']\n#for index, record in spacex_df.iterrows():\n    # TODO: Create and add a Marker cluster to the site map\n    # marker = folium.Marker(...)\n #   marker_cluster.add_child(marker)\n\n#site_map\n# Create the base map and MarkerCluster\nsite_map = folium.Map(location=nasa_coordinate, zoom_start=5)\nmarker_cluster = MarkerCluster().add_to(site_map)\n\n# Add a marker for each launch\nfor _, row in spacex_df.iterrows():\n    folium.Marker(\n        location=[row['Lat'], row['Long']],\n        popup=f\"{row['Launch Site']}<br>{'Success' if row['class'] == 1 else 'Failure'}\",\n        icon=folium.Icon(color=row['marker_color'], icon='rocket', prefix='fa')\n    ).add_to(marker_cluster)\n",
      "metadata": {
        "trusted": true
      },
      "outputs": [],
      "execution_count": null
    },
    {
      "cell_type": "markdown",
      "source": "Your updated map may look like the following screenshots:\n",
      "metadata": {}
    },
    {
      "cell_type": "markdown",
      "source": "<center>\n    <img src=\"https://cf-courses-data.s3.us.cloud-object-storage.appdomain.cloud/IBM-DS0321EN-SkillsNetwork/labs/module_3/images/launch_site_marker_cluster.png\">\n</center>\n",
      "metadata": {}
    },
    {
      "cell_type": "markdown",
      "source": "<center>\n    <img src=\"https://cf-courses-data.s3.us.cloud-object-storage.appdomain.cloud/IBM-DS0321EN-SkillsNetwork/labs/module_3/images/launch_site_marker_cluster_zoomed.png\">\n</center>\n",
      "metadata": {}
    },
    {
      "cell_type": "markdown",
      "source": "From the color-labeled markers in marker clusters, you should be able to easily identify which launch sites have relatively high success rates.\n",
      "metadata": {}
    },
    {
      "cell_type": "code",
      "source": "# TASK 3: Calculate the distances between a launch site to its proximities\n# Haversine function to calculate distance in kilometers\ndef haversine(lat1, lon1, lat2, lon2):\n    R = 6371  # Earth radius in kilometers\n    lat1, lon1, lat2, lon2 = map(np.radians, [lat1, lon1, lat2, lon2])\n    dlat = lat2 - lat1\n    dlon = lon2 - lon1\n\n    a = np.sin(dlat/2)**2 + np.cos(lat1) * np.cos(lat2) * np.sin(dlon/2)**2\n    c = 2 * np.arcsin(np.sqrt(a))\n    return R * c\n# NASA JSC coordinate\nnasa_lat, nasa_lon = nasa_coordinate\n\n# Calculate distances to each launch in spacex_df\nspacex_df['distance_to_NASA'] = spacex_df.apply(\n    lambda row: haversine(nasa_lat, nasa_lon, row['Lat'], row['Long']),\n    axis=1\n)\n# Sort by distance\nclosest_launch = spacex_df.sort_values('distance_to_NASA').head(1)\nfarthest_launch = spacex_df.sort_values('distance_to_NASA').tail(1)\n",
      "metadata": {
        "trusted": true
      },
      "outputs": [],
      "execution_count": null
    },
    {
      "cell_type": "markdown",
      "source": "Next, we need to explore and analyze the proximities of launch sites.\n",
      "metadata": {}
    },
    {
      "cell_type": "markdown",
      "source": "Let's first add a `MousePosition` on the map to get coordinate for a mouse over a point on the map. As such, while you are exploring the map, you can easily find the coordinates of any points of interests (such as railway)\n",
      "metadata": {}
    },
    {
      "cell_type": "code",
      "source": "# Create the base map centered on NASA JSC\nsite_map = folium.Map(location=nasa_coordinate, zoom_start=5)\n# Add MousePosition to display coordinates on hover\nformatter = \"function(num) {return L.Util.formatNum(num, 5);};\"\nmouse_position = MousePosition(\n    position='topright',\n    separator=' Long: ',\n    empty_string='NaN',\n    lng_first=False,\n    num_digits=20,\n    prefix='Lat:',\n    lat_formatter=formatter,\n    lng_formatter=formatter,\n)\nmouse_position.add_to(site_map)\n",
      "metadata": {
        "trusted": true
      },
      "outputs": [],
      "execution_count": null
    },
    {
      "cell_type": "markdown",
      "source": "Now zoom in to a launch site and explore its proximity to see if you can easily find any railway, highway, coastline, etc. Move your mouse to these points and mark down their coordinates (shown on the top-left) in order to the distance to the launch site.\n",
      "metadata": {}
    },
    {
      "cell_type": "markdown",
      "source": "Now zoom in to a launch site and explore its proximity to see if you can easily find any railway, highway, coastline, etc. Move your mouse to these points and mark down their coordinates (shown on the top-left) in order to the distance to the launch site.\n",
      "metadata": {}
    },
    {
      "cell_type": "code",
      "source": "def haversine(lat1, lon1, lat2, lon2):\n    R = 6371  # Earth radius (km)\n    from math import radians, sin, cos, sqrt, asin\n    lat1, lon1, lat2, lon2 = map(radians, [lat1, lon1, lat2, lon2])\n    dlat, dlon = lat2 - lat1, lon2 - lon1\n    a = sin(dlat/2)**2 + cos(lat1)*cos(lat2)*sin(dlon/2)**2\n    return R * 2 * asin(sqrt(a))\n# NASA JSC to a nearby rail point\ndistance_km = haversine(29.559684888503615, -95.0830971930759, 29.5610, -95.0870)\nprint(f\"Distance: {distance_km:.2f} km\")\n",
      "metadata": {
        "trusted": true
      },
      "outputs": [],
      "execution_count": null
    },
    {
      "cell_type": "markdown",
      "source": "*TODO:* Mark down a point on the closest coastline using MousePosition and calculate the distance between the coastline point and the launch site.\n",
      "metadata": {}
    },
    {
      "cell_type": "code",
      "source": "# find coordinate of the closet coastline\n# e.g.,: Lat: 28.56367  Lon: -80.57163\n# distance_coastline = calculate_distance(launch_site_lat, launch_site_lon, coastline_lat, coastline_lon)\ndef haversine(lat1, lon1, lat2, lon2):\n    from math import radians, sin, cos, sqrt, asin\n    R = 6371  # Earth radius in km\n    lat1, lon1, lat2, lon2 = map(radians, [lat1, lon1, lat2, lon2])\n    dlat = lat2 - lat1\n    dlon = lon2 - lon1\n    a = sin(dlat / 2)**2 + cos(lat1) * cos(lat2) * sin(dlon / 2)**2\n    return R * 2 * asin(sqrt(a))\n\n# Example usage\nlaunch_site = (38.4761, 7.0283)  # Replace with your actual coordinates\ncoastline_point = (38.5100, 6.9700)\ndistance = haversine(*launch_site, *coastline_point)\nprint(f\"Distance to coastline: {distance:.2f} km\")\n",
      "metadata": {
        "trusted": true
      },
      "outputs": [],
      "execution_count": null
    },
    {
      "cell_type": "code",
      "source": "# Create and add a folium.Marker on your selected closest coastline point on the map\n# Display the distance between coastline point and launch site using the icon property \n# for example\n# distance_marker = folium.Marker(\n#    coordinate,\n#    icon=DivIcon(\n#        icon_size=(20,20),\n#        icon_anchor=(0,0),\n#        html='<div style=\"font-size: 12; color:#d35400;\"><b>%s</b></div>' % \"{:10.2f} KM\".format(distance),\n#        )\n#    )\nimport folium\n\n# Replace these with the actual coordinates you got from MousePosition\ncoastline_lat = 38.5100\ncoastline_lon = 6.9700\n\n# Initialize your map centered on the launch site (just an example)\nm = folium.Map(location=[38.4761, 7.0283], zoom_start=12)\n\n# Add coastline marker\nfolium.Marker(\n    location=[coastline_lat, coastline_lon],\n    popup=\"Closest Coastline Point\",\n    icon=folium.Icon(color=\"blue\", icon=\"cloud\")\n).add_to(m)\n\n# Display the map\nm\n",
      "metadata": {
        "trusted": true
      },
      "outputs": [],
      "execution_count": null
    },
    {
      "cell_type": "markdown",
      "source": "*TODO:* Draw a `PolyLine` between a launch site to the selected coastline point\n",
      "metadata": {}
    },
    {
      "cell_type": "code",
      "source": "# Create a `folium.PolyLine` object using the coastline coordinates and launch site coordinate\n# lines=folium.PolyLine(locations=coordinates, weight=1)\n#site_map.add_child(lines)\n# Example coordinates – replace these with your actual data\nlaunch_site = [38.4761, 7.0283]\ncoastline_point = [38.5100, 6.9700]\n\n# Initialize map centered roughly between the two points\ncenter_lat = (launch_site[0] + coastline_point[0]) / 2\ncenter_lon = (launch_site[1] + coastline_point[1]) / 2\nm = folium.Map(location=[center_lat, center_lon], zoom_start=13)\n\n# Add marker for Launch Site\nfolium.Marker(\n    location=launch_site,\n    popup=\"Launch Site\",\n    icon=folium.Icon(color=\"red\", icon=\"rocket\")\n).add_to(m)\n\n# Add marker for Coastline Point\nfolium.Marker(\n    location=coastline_point,\n    popup=\"Closest Coastline Point\",\n    icon=folium.Icon(color=\"blue\", icon=\"cloud\")\n).add_to(m)\n\n# Add PolyLine between the two points\nfolium.PolyLine(\n    locations=[launch_site, coastline_point],\n    color=\"green\",\n    weight=3,\n    tooltip=\"Distance Line\"\n).add_to(m)\n\n# Display the map\nm\n",
      "metadata": {
        "trusted": true
      },
      "outputs": [],
      "execution_count": null
    },
    {
      "cell_type": "markdown",
      "source": "Your updated map with distance line should look like the following screenshot:\n",
      "metadata": {}
    },
    {
      "cell_type": "markdown",
      "source": "<center>\n    <img src=\"https://cf-courses-data.s3.us.cloud-object-storage.appdomain.cloud/IBM-DS0321EN-SkillsNetwork/labs/module_3/images/launch_site_marker_distance.png\">\n</center>\n",
      "metadata": {}
    },
    {
      "cell_type": "markdown",
      "source": "*TODO:* Similarly, you can draw a line betwee a launch site to its closest city, railway, highway, etc. You need to use `MousePosition` to find the their coordinates on the map first\n",
      "metadata": {}
    },
    {
      "cell_type": "markdown",
      "source": "A railway map symbol may look like this:\n",
      "metadata": {}
    },
    {
      "cell_type": "markdown",
      "source": "<center>\n    <img src=\"https://cf-courses-data.s3.us.cloud-object-storage.appdomain.cloud/IBM-DS0321EN-SkillsNetwork/labs/module_3/images/railway.png\">\n</center>\n",
      "metadata": {}
    },
    {
      "cell_type": "markdown",
      "source": "A highway map symbol may look like this:\n",
      "metadata": {}
    },
    {
      "cell_type": "markdown",
      "source": "<center>\n    <img src=\"https://cf-courses-data.s3.us.cloud-object-storage.appdomain.cloud/IBM-DS0321EN-SkillsNetwork/labs/module_3/images/highway.png\">\n</center>\n",
      "metadata": {}
    },
    {
      "cell_type": "markdown",
      "source": "A city map symbol may look like this:\n",
      "metadata": {}
    },
    {
      "cell_type": "markdown",
      "source": "<center>\n    <img src=\"https://cf-courses-data.s3.us.cloud-object-storage.appdomain.cloud/IBM-DS0321EN-SkillsNetwork/labs/module_3/images/city.png\">\n</center>\n",
      "metadata": {}
    },
    {
      "cell_type": "code",
      "source": "# Create a marker with distance to a closest city, railway, highway, etc.\n# Draw a line between the marker to the launch site\n",
      "metadata": {},
      "outputs": [],
      "execution_count": null
    },
    {
      "cell_type": "code",
      "source": "import folium\nfrom folium.plugins import MousePosition\n\n# Launch site coordinates (example: Hawassa)\nlaunch_site = [7.0621, 38.4764]\n\n# Coordinates from MousePosition (replace with actual values you collect)\nclosest_city = [6.8667, 38.4000]     # Example: Shashamene\nclosest_railway = [8.5500, 39.2667]  # Example: Adama station\nclosest_highway = [7.0700, 38.4800]  # Example: Addis–Hawassa Highway\n\n# Create map centered on launch site\nm = folium.Map(location=launch_site, zoom_start=10)\n\n# Add MousePosition plugin\nMousePosition().add_to(m)\n\n# Add markers\nfolium.Marker(launch_site, popup=\"Launch Site\", icon=folium.Icon(color=\"red\", icon=\"rocket\")).add_to(m)\nfolium.Marker(closest_city, popup=\"Closest City\", icon=folium.Icon(color=\"purple\", icon=\"home\")).add_to(m)\nfolium.Marker(closest_railway, popup=\"Closest Railway\", icon=folium.Icon(color=\"green\", icon=\"train\")).add_to(m)\nfolium.Marker(closest_highway, popup=\"Closest Highway\", icon=folium.Icon(color=\"blue\", icon=\"road\")).add_to(m)\n\n# Draw lines\nfolium.PolyLine([launch_site, closest_city], color=\"orange\", weight=2.5, tooltip=\"To City\").add_to(m)\nfolium.PolyLine([launch_site, closest_railway], color=\"darkgreen\", weight=2.5, tooltip=\"To Railway\").add_to(m)\nfolium.PolyLine([launch_site, closest_highway], color=\"navy\", weight=2.5, tooltip=\"To Highway\").add_to(m)\n\n# Display map\nm\n",
      "metadata": {
        "trusted": true
      },
      "outputs": [],
      "execution_count": null
    },
    {
      "cell_type": "code",
      "source": "import folium\n\n# Coordinates from MousePosition (replace with your actual values)\nlaunch_site = [7.0621, 38.4764]         # Hawassa\nmarker_point = [6.8667, 38.4000]        # Example: Shashamene (closest city)\n\n# Create map centered between the two\ncenter_lat = (launch_site[0] + marker_point[0]) / 2\ncenter_lon = (launch_site[1] + marker_point[1]) / 2\nm = folium.Map(location=[center_lat, center_lon], zoom_start=10)\n\n# Add launch site marker\nfolium.Marker(\n    location=launch_site,\n    popup=\"Launch Site\",\n    icon=folium.Icon(color=\"red\", icon=\"rocket\")\n).add_to(m)\n\n# Add infrastructure marker\nfolium.Marker(\n    location=marker_point,\n    popup=\"Closest City\",\n    icon=folium.Icon(color=\"purple\", icon=\"home\")\n).add_to(m)\n\n# Draw line between them\nfolium.PolyLine(\n    locations=[launch_site, marker_point],\n    color=\"orange\",\n    weight=3,\n    tooltip=\"Launch Site → City\"\n).add_to(m)\n\n# Display map\nm\n",
      "metadata": {
        "trusted": true
      },
      "outputs": [],
      "execution_count": null
    },
    {
      "cell_type": "markdown",
      "source": "After you plot distance lines to the proximities, you can answer the following questions easily:\n\n*   Are launch sites in close proximity to railways?\n*   Are launch sites in close proximity to highways?\n*   Are launch sites in close proximity to coastline?\n*   Do launch sites keep certain distance away from cities?\n\nAlso please try to explain your findings.\n",
      "metadata": {}
    },
    {
      "cell_type": "markdown",
      "source": "# Next Steps:\n\nNow you have discovered many interesting insights related to the launch sites' location using folium, in a very interactive way. Next, you will need to build a dashboard using Ploty Dash on detailed launch records.\n",
      "metadata": {}
    },
    {
      "cell_type": "markdown",
      "source": "## Authors\n",
      "metadata": {}
    },
    {
      "cell_type": "markdown",
      "source": "[Pratiksha Verma](https://www.linkedin.com/in/pratiksha-verma-6487561b1/)\n",
      "metadata": {}
    },
    {
      "cell_type": "markdown",
      "source": "<!--## Change Log--!>\n",
      "metadata": {}
    },
    {
      "cell_type": "markdown",
      "source": "<!--| Date (YYYY-MM-DD) | Version | Changed By      | Change Description      |\n| ----------------- | ------- | -------------   | ----------------------- |\n| 2022-11-09        | 1.0     | Pratiksha Verma | Converted initial version to Jupyterlite|--!>\n",
      "metadata": {}
    },
    {
      "cell_type": "markdown",
      "source": "### <h3 align=\"center\"> IBM Corporation 2022. All rights reserved. <h3/>\n",
      "metadata": {}
    }
  ]
}